{
 "cells": [
  {
   "cell_type": "code",
   "execution_count": 5,
   "metadata": {},
   "outputs": [
    {
     "name": "stdin",
     "output_type": "stream",
     "text": [
      "Nilai Ujian Teori Anda = 76.9\n",
      "Nilai Ujian Praktek Anda = 88.4\n"
     ]
    },
    {
     "name": "stdout",
     "output_type": "stream",
     "text": [
      "Selamat, anda lulus!\n"
     ]
    }
   ],
   "source": [
    "nilai_teori=float(input(\"Nilai Ujian Teori Anda =\"))\n",
    "nilai_praktek=float(input(\"Nilai Ujian Praktek Anda =\"))\n",
    "\n",
    "# K E T E N T U A N   N I L A I   U J I A N   T E O R I\n",
    "if nilai_teori>=0 and nilai_teori<=100 and nilai_praktek>=0 and nilai_praktek<=100:\n",
    "    if nilai_teori>=70 and nilai_praktek>=70:\n",
    "        print(\"Selamat, anda lulus!\")\n",
    "    elif nilai_teori>=70 and nilai_praktek<70:\n",
    "        print(\"Anda harus mengulang ujian praktek.\")\n",
    "    elif nilai_teori<70 and nilai_praktek>=70:\n",
    "        print(\"Anda harus mengulang ujian teori.\")\n",
    "    elif nilai_teori<70 and nilai_praktek<70:\n",
    "        print(\"Anda harus mengulang ujian teori dan praktek.\")\n",
    "else:\n",
    "    print(\"Status kelulusan tidak dapat ditentukan.\")"
   ]
  },
  {
   "cell_type": "code",
   "execution_count": null,
   "metadata": {},
   "outputs": [],
   "source": []
  }
 ],
 "metadata": {
  "kernelspec": {
   "display_name": "Python 3",
   "language": "python",
   "name": "python3"
  },
  "language_info": {
   "codemirror_mode": {
    "name": "ipython",
    "version": 3
   },
   "file_extension": ".py",
   "mimetype": "text/x-python",
   "name": "python",
   "nbconvert_exporter": "python",
   "pygments_lexer": "ipython3",
   "version": "3.8.3"
  }
 },
 "nbformat": 4,
 "nbformat_minor": 4
}
