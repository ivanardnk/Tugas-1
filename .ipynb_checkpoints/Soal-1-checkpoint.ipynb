{
 "cells": [
  {
   "cell_type": "code",
   "execution_count": 1,
   "metadata": {},
   "outputs": [
    {
     "name": "stdin",
     "output_type": "stream",
     "text": [
      "Nama Anda : Ivana\n",
      "Umur Anda : 18\n",
      "Tinggi Anda : 160\n"
     ]
    },
    {
     "name": "stdout",
     "output_type": "stream",
     "text": [
      "Nama saya  Ivana umur saya 18 tahun dan tinggi saya 160.0 cm.\n"
     ]
    }
   ],
   "source": [
    "Nama=input(\"Nama Anda :\")\n",
    "Umur=int(input(\"Umur Anda :\"))\n",
    "Tinggi=float(input(\"Tinggi Anda :\"))\n",
    "print(\"Nama saya \",Nama,\"umur saya\",Umur,\"tahun dan tinggi saya\",Tinggi,\"cm.\")"
   ]
  },
  {
   "cell_type": "code",
   "execution_count": null,
   "metadata": {},
   "outputs": [],
   "source": []
  }
 ],
 "metadata": {
  "kernelspec": {
   "display_name": "Python 3",
   "language": "python",
   "name": "python3"
  },
  "language_info": {
   "codemirror_mode": {
    "name": "ipython",
    "version": 3
   },
   "file_extension": ".py",
   "mimetype": "text/x-python",
   "name": "python",
   "nbconvert_exporter": "python",
   "pygments_lexer": "ipython3",
   "version": "3.8.3"
  }
 },
 "nbformat": 4,
 "nbformat_minor": 4
}
